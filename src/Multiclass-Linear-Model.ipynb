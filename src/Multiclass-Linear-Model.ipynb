{
 "cells": [
  {
   "cell_type": "code",
   "execution_count": 405,
   "metadata": {},
   "outputs": [],
   "source": [
    "import numpy as np\n",
    "import scipy.stats as sp\n",
    "import matplotlib.pyplot as plt\n",
    "import pandas as pd\n",
    "from numpy.linalg import inv\n",
    "from sklearn.datasets import load_boston\n",
    "from statsmodels.regression.linear_model import OLS\n",
    "import statsmodels.api as sm"
   ]
  },
  {
   "cell_type": "markdown",
   "metadata": {},
   "source": [
    "### Generation of pseudo-data"
   ]
  },
  {
   "cell_type": "code",
   "execution_count": 603,
   "metadata": {},
   "outputs": [],
   "source": [
    "n = 100\n",
    "k = 10 \n",
    "mu1 = np.random.randn(2)\n",
    "mu2 = 2*np.random.randn(2)\n",
    "cov1 = 0\n",
    "v11 = 2\n",
    "v12 = 2\n",
    "cov2 = 0\n",
    "v21 = 2\n",
    "v22 = 2\n",
    "\n",
    "sigma1 = [[v11, cov1],[cov1, v12]]\n",
    "sigma2 = [[v21, cov1],[cov2, v22]]\n",
    "\n",
    "\n",
    "x1, y1 = np.random.multivariate_normal(mu1, sigma1, n).T\n",
    "x2, y2 = np.random.multivariate_normal(mu2, sigma2, n).T\n",
    "\n",
    "## calculating sample variance for x1 and x2\n",
    "def sample_cov(x, n, k):\n",
    "    x = x.reshape(k, n)\n",
    "    q_init = np.zeros(shape=(k, k))\n",
    "    for i in range(2):\n",
    "        for j in range(2):\n",
    "            if i == j:\n",
    "                q_init[i][j] = np.var(x[i])\n",
    "            else:\n",
    "                for k in range(100):\n",
    "                    q_init[i][j] += (1/(n-1))*(x[i][k] - np.mean(x[i]))*(x[j][k] - np.mean(x[j]))\n",
    "\n",
    "    return q_init\n",
    "\n",
    "## returns the covariance of bivariate variables to build y\n",
    "x = np.concatenate((x1, x2), axis=0)\n",
    "sigma = sample_cov(x, 100, 2)\n",
    "\n",
    "x_train, y_train = np.random.multivariate_normal(mu1, sigma, n).T\n",
    "x_test, y_test = np.random.multivariate_normal(mu2, sigma, n).T\n",
    "\n",
    "## define rounding function\n",
    "def round_distribution_var(test):\n",
    "    round_test = np.empty(len(test),)\n",
    "    for i in range(len(test)):\n",
    "        round_test[i] = round(test[i], 5)\n",
    "    return round_test\n",
    "\n",
    "## round x_train, y_train and x_test, y_test\n",
    "x_train = round_distribution_var(x_train)\n",
    "y_train = round_distribution_var(y_train)\n",
    "x_test = round_distribution_var(x_test)\n",
    "y_test = round_distribution_var(y_test)\n"
   ]
  },
  {
   "cell_type": "code",
   "execution_count": 604,
   "metadata": {},
   "outputs": [
    {
     "data": {
      "image/png": "[encoded data removed]",
      "text/plain": [
       "<Figure size 432x288 with 1 Axes>"
      ]
     },
     "metadata": {
      "needs_background": "light"
     },
     "output_type": "display_data"
    }
   ],
   "source": [
    "plt.plot(x_train, y_train, 'x', label='0')\n",
    "plt.plot(x_test, y_test, 's', label='1')\n",
    "#plt.axis('equal')\n",
    "plt.legend(loc='upper left')\n",
    "plt.show()"
   ]
  },
  {
   "cell_type": "markdown",
   "metadata": {},
   "source": [
    "### K-Nearest  Neighbours Implementation"
   ]
  },
  {
   "cell_type": "code",
   "execution_count": 580,
   "metadata": {},
   "outputs": [],
   "source": [
    "## convert ndarray to list for k-nearest neighbour implementation"
   ]
  },
  {
   "cell_type": "code",
   "execution_count": 606,
   "metadata": {},
   "outputs": [],
   "source": [
    "## function for converting 2-D nd-array to list of lists\n",
    "def nd_to_lst(ndarray, k):\n",
    "        nd_split_lst= []\n",
    "        for i in range(k):\n",
    "            temp_split_nd = []\n",
    "            temp_split_nd = ndarray[i].tolist()\n",
    "            nd_split_lst.append(temp_split_nd)\n",
    "        return nd_split_lst\n",
    "\n",
    "def probability_centroids(x_total):\n",
    "    p_centroids = []\n",
    "    for i in range(len(x_total)):\n",
    "        p_centroids.append(1/len(x_total))\n",
    "    return p_centroids\n",
    "\n",
    "def get_value_index(mylst, value):\n",
    "    coordsList = [[x, y] for x, li in enumerate(mylst) for y, val in enumerate(li) if val==value]\n",
    "    return coordsList\n",
    "\n",
    "def get_argmin(mylst):\n",
    "    min_val, min_idx = min((val, idx) for (idx, val) in enumerate(mylst))\n",
    "    return min_idx\n",
    "    \n",
    "\n",
    "def k_nearest_neighbours(x_train, x_test, y_train, y_test, k, iters):\n",
    "   \n",
    "        ## initialise input x and response y from a distribution of x1 + x2 \n",
    "        ## of uncorrelated and homoscedastic random vectors x1 and x2\n",
    "        ## x1 and x2 are x_train and x_test\n",
    "\n",
    "        x_total = np.concatenate((x_train, x_test), 0)\n",
    "        y_total = np.concatenate((y_train, y_test), 0)\n",
    "        x = x_total\n",
    "        y = y_total\n",
    "        x_split = np.split(x_total, k)\n",
    "        y_split = np.split(y_total, k)\n",
    "\n",
    "\n",
    "        x_split_lst = nd_to_lst(x_split, k)\n",
    "        y_splt_list = nd_to_lst(y_split, k)\n",
    "\n",
    "        ## make initial assignment of S and M in ndarray from ndarray\n",
    "        # S = np.empty((len(l)), ).reshape(k, int(len(l)/k))\n",
    "        ## draw a probability distribution for random centroids \n",
    "        M = np.zeros((k,), dtype=float)     \n",
    "        p_centr = probability_centroids(x_total)\n",
    "        M = np.random.choice(x_total, k, p_centr)\n",
    "        \n",
    "        ## convert the S and M into lists\n",
    "        ## create an empty list to store the distance for each xp in list of all elements x\n",
    "        ## S = [S1, S2, S3, ..., Sk], where S[i] = [x[(n/k)+i:(i+1)*n/k]]\n",
    "        ## get min index for xp in distance list d\n",
    "        ## assign S[index_j] with value\n",
    "        ## update M\n",
    "        S_lst = [[] for i in range(k)]\n",
    "        M = M.tolist()\n",
    "        myList = [[0,1],[1,3.3266]]\n",
    "        for l in range(iters):\n",
    "            for index, value in enumerate(x.tolist()):\n",
    "                d = []\n",
    "                for i in range(k):\n",
    "                    d.append(value - M[i])\n",
    "\n",
    "        \n",
    "                index_j = get_argmin(d)\n",
    "\n",
    "         \n",
    "                S_lst[index_j].append(value) \n",
    "        \n",
    "         \n",
    "                M[index_j] = sum(S_lst[index_j])/len(S_lst[index_j])\n",
    "        return S_lst, M"
   ]
  },
  {
   "cell_type": "code",
   "execution_count": null,
   "metadata": {},
   "outputs": [],
   "source": [
    "k_nearest_neighbours(x_train, x_test, y_train, y_test, 2, 10000)"
   ]
  }
 ],
 "metadata": {
  "kernelspec": {
   "display_name": "Python 3",
   "language": "python",
   "name": "python3"
  },
  "language_info": {
   "codemirror_mode": {
    "name": "ipython",
    "version": 3
   },
   "file_extension": ".py",
   "mimetype": "text/x-python",
   "name": "python",
   "nbconvert_exporter": "python",
   "pygments_lexer": "ipython3",
   "version": "3.7.1"
  }
 },
 "nbformat": 4,
 "nbformat_minor": 2
}
